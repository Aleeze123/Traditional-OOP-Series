{
  "nbformat": 4,
  "nbformat_minor": 0,
  "metadata": {
    "colab": {
      "provenance": [],
      "authorship_tag": "ABX9TyP1kCotIcrpC6Gx+ZGuktfS",
      "include_colab_link": true
    },
    "kernelspec": {
      "name": "python3",
      "display_name": "Python 3"
    },
    "language_info": {
      "name": "python"
    }
  },
  "cells": [
    {
      "cell_type": "markdown",
      "metadata": {
        "id": "view-in-github",
        "colab_type": "text"
      },
      "source": [
        "<a href=\"https://colab.research.google.com/github/Aleeze123/Traditional-OOP-Series/blob/main/build_compose_decorate_oop_practice.ipynb\" target=\"_parent\"><img src=\"https://colab.research.google.com/assets/colab-badge.svg\" alt=\"Open In Colab\"/></a>"
      ]
    },
    {
      "cell_type": "markdown",
      "source": [
        "# ***Build, Compose & Decorate: Traditional OOP Practice Series***\n",
        "\n"
      ],
      "metadata": {
        "id": "1K58sRyOzaLb"
      }
    },
    {
      "cell_type": "markdown",
      "source": [
        "***1. Using self***"
      ],
      "metadata": {
        "id": "x3bPET7e0YMS"
      }
    },
    {
      "cell_type": "code",
      "execution_count": 2,
      "metadata": {
        "colab": {
          "base_uri": "https://localhost:8080/"
        },
        "id": "vPDb-FgwypwR",
        "outputId": "9287c49f-478c-4209-af95-da76d8355fb1"
      },
      "outputs": [
        {
          "output_type": "stream",
          "name": "stdout",
          "text": [
            "Name: Aleeza\n",
            "Marks: 80\n"
          ]
        }
      ],
      "source": [
        "class Student:\n",
        "    def __init__(self, name, marks):\n",
        "        self.name = name\n",
        "        self.marks = marks\n",
        "\n",
        "    def display(self):\n",
        "        print(\"Name:\", self.name)\n",
        "        print(\"Marks:\", self.marks)\n",
        "\n",
        "\n",
        "s1 = Student(\"Aleeza\", 80)\n",
        "s1.display()\n"
      ]
    },
    {
      "cell_type": "markdown",
      "source": [
        "***2. Using cls***"
      ],
      "metadata": {
        "id": "BVT4IUtZMQGi"
      }
    },
    {
      "cell_type": "code",
      "source": [
        "class Counter:\n",
        "    count = 0\n",
        "\n",
        "    def __init__(self):\n",
        "        Counter.count += 1\n",
        "\n",
        "    @classmethod\n",
        "    def show_count(cls):\n",
        "        print(\"Total objects created:\", cls.count)\n",
        "\n",
        "\n",
        "c1 = Counter()\n",
        "c2 = Counter()\n",
        "c3 = Counter()\n",
        "Counter.show_count()\n"
      ],
      "metadata": {
        "colab": {
          "base_uri": "https://localhost:8080/"
        },
        "id": "FVMz-QwYMPVb",
        "outputId": "a1dae1f4-8bfe-4333-977f-51c0da4343a9"
      },
      "execution_count": 4,
      "outputs": [
        {
          "output_type": "stream",
          "name": "stdout",
          "text": [
            "Total objects created: 3\n"
          ]
        }
      ]
    },
    {
      "cell_type": "markdown",
      "source": [
        "***3. Public Variables and Methods***"
      ],
      "metadata": {
        "id": "H66RLSsmM__V"
      }
    },
    {
      "cell_type": "code",
      "source": [
        "class Car:\n",
        "    def __init__(self, brand):\n",
        "        self.brand = brand\n",
        "\n",
        "    def start(self):\n",
        "        print(self.brand, \" is starting\")\n",
        "\n",
        "\n",
        "c = Car(\"Mercedes\")\n",
        "print(\"Car brand:\", c.brand)\n",
        "c.start()\n"
      ],
      "metadata": {
        "colab": {
          "base_uri": "https://localhost:8080/"
        },
        "id": "KXWBcu0sNIVT",
        "outputId": "ba371991-42cc-4bee-9e65-4dcd39eca402"
      },
      "execution_count": 13,
      "outputs": [
        {
          "output_type": "stream",
          "name": "stdout",
          "text": [
            "Car brand: Mercedes\n",
            "Mercedes  is starting\n"
          ]
        }
      ]
    },
    {
      "cell_type": "markdown",
      "source": [
        "***4. Class Variables and Class Methods***"
      ],
      "metadata": {
        "id": "Do9j5XHfNp5S"
      }
    },
    {
      "cell_type": "code",
      "source": [
        "class Bank:\n",
        "    # Class variable\n",
        "    bank_name = \"National Bank\"\n",
        "\n",
        "    def __init__(self, account_holder):\n",
        "        self.account_holder = account_holder\n",
        "\n",
        "    # Class method to change the bank name\n",
        "    @classmethod\n",
        "    def change_bank_name(cls, name):\n",
        "        cls.bank_name = name\n",
        "\n",
        "    def display_info(self):\n",
        "        print(f\"Account Holder: {self.account_holder}, Bank: {self.bank_name}\")\n",
        "\n",
        "\n",
        "# Creating instances\n",
        "customer1 = Bank(\"Aleeza\")\n",
        "customer2 = Bank(\"Hoorain\")\n",
        "\n",
        "# Display info before changing bank name\n",
        "print(\"Before changing bank name:\")\n",
        "customer1.display_info()\n",
        "customer2.display_info()\n",
        "\n",
        "# Change bank name using class method\n",
        "Bank.change_bank_name(\"Meezan Bank\")\n",
        "\n",
        "# Display info after changing bank name\n",
        "print(\"\\nAfter changing bank name:\")\n",
        "customer1.display_info()\n",
        "customer2.display_info()\n"
      ],
      "metadata": {
        "colab": {
          "base_uri": "https://localhost:8080/"
        },
        "id": "Yx5BrfAXNycZ",
        "outputId": "e4b5a643-cecd-4356-fc94-8ed9a34ed25f"
      },
      "execution_count": 12,
      "outputs": [
        {
          "output_type": "stream",
          "name": "stdout",
          "text": [
            "Before changing bank name:\n",
            "Account Holder: Aleeza, Bank: National Bank\n",
            "Account Holder: Hoorain, Bank: National Bank\n",
            "\n",
            "After changing bank name:\n",
            "Account Holder: Aleeza, Bank: Meezan Bank\n",
            "Account Holder: Hoorain, Bank: Meezan Bank\n"
          ]
        }
      ]
    },
    {
      "cell_type": "markdown",
      "source": [
        "***5. Static Variables and Static Methods***"
      ],
      "metadata": {
        "id": "cGLiKuiMRTN4"
      }
    },
    {
      "cell_type": "code",
      "source": [
        "class MathUtils:\n",
        "    @staticmethod\n",
        "    def add(a, b):\n",
        "        return a + b\n",
        "\n",
        "\n",
        "result = MathUtils.add(5, 3)\n",
        "print(result)\n"
      ],
      "metadata": {
        "colab": {
          "base_uri": "https://localhost:8080/"
        },
        "id": "pTEaJkdRRSmP",
        "outputId": "914979b9-bdea-4a76-ffdb-50cc22d3088e"
      },
      "execution_count": 14,
      "outputs": [
        {
          "output_type": "stream",
          "name": "stdout",
          "text": [
            "8\n"
          ]
        }
      ]
    },
    {
      "cell_type": "markdown",
      "source": [
        "***6. Constructors and Destructors***"
      ],
      "metadata": {
        "id": "xxn1G3LHR7tW"
      }
    },
    {
      "cell_type": "code",
      "source": [
        "class Logger:\n",
        "    def __init__(self):\n",
        "        print(\"Logger object created\")\n",
        "\n",
        "    def __del__(self):\n",
        "        print(\"Logger object destroyed\")\n",
        "\n",
        "\n",
        "log = Logger()\n",
        "del log\n"
      ],
      "metadata": {
        "colab": {
          "base_uri": "https://localhost:8080/"
        },
        "id": "T1SARt7ASJeI",
        "outputId": "b0423df5-8c72-497a-b053-1721d190d6bd"
      },
      "execution_count": 15,
      "outputs": [
        {
          "output_type": "stream",
          "name": "stdout",
          "text": [
            "Logger object created\n",
            "Logger object destroyed\n"
          ]
        }
      ]
    },
    {
      "cell_type": "markdown",
      "source": [
        "***7. Access Modifiers: Public, Private, and Protected***"
      ],
      "metadata": {
        "id": "rj34etjSSkQS"
      }
    },
    {
      "cell_type": "code",
      "source": [
        "class Employee:\n",
        "    def __init__(self, name, salary, ssn):\n",
        "        self.name = name\n",
        "        self._salary = salary\n",
        "        self.__ssn = ssn\n",
        "\n",
        "\n",
        "e = Employee(\"Shahzain\", 50000, \"123-45-6789\")\n",
        "\n",
        "print(\"Name:\", e.name)\n",
        "print(\"Salary:\", e._salary)\n",
        "print(\"SSN:\", e._Employee__ssn)\n"
      ],
      "metadata": {
        "colab": {
          "base_uri": "https://localhost:8080/"
        },
        "id": "T9LtPhpyS7xS",
        "outputId": "7048ceec-b4fb-462d-ddef-db4778eb3e04"
      },
      "execution_count": 16,
      "outputs": [
        {
          "output_type": "stream",
          "name": "stdout",
          "text": [
            "Name: Shahzain\n",
            "Salary: 50000\n",
            "SSN: 123-45-6789\n"
          ]
        }
      ]
    },
    {
      "cell_type": "markdown",
      "source": [
        "***8. The super() Function***"
      ],
      "metadata": {
        "id": "tFBuUFawTbKp"
      }
    },
    {
      "cell_type": "code",
      "source": [
        "class Person:\n",
        "    def __init__(self, name):\n",
        "        self.name = name\n",
        "\n",
        "class Teacher(Person):\n",
        "    def __init__(self, name, subject):\n",
        "        super().__init__(name)\n",
        "        self.subject = subject\n"
      ],
      "metadata": {
        "id": "RNCFxctdThcO"
      },
      "execution_count": 18,
      "outputs": []
    },
    {
      "cell_type": "markdown",
      "source": [
        "***9. Abstract Classes and Methods***"
      ],
      "metadata": {
        "id": "GBKeqKQtTulF"
      }
    },
    {
      "cell_type": "code",
      "source": [
        "from abc import ABC, abstractmethod\n",
        "\n",
        "class Shape(ABC):\n",
        "    @abstractmethod\n",
        "    def area(self):\n",
        "        pass\n",
        "\n",
        "class Rectangle(Shape):\n",
        "    def __init__(self, width, height):\n",
        "        self.width = width\n",
        "        self.height = height\n",
        "\n",
        "    def area(self):\n",
        "        return self.width * self.height\n"
      ],
      "metadata": {
        "id": "ZXQui-ABT3vU"
      },
      "execution_count": 20,
      "outputs": []
    },
    {
      "cell_type": "markdown",
      "source": [
        "***10. Instance Methods***"
      ],
      "metadata": {
        "id": "AIb-gTO8UIu4"
      }
    },
    {
      "cell_type": "code",
      "source": [
        "class Dog:\n",
        "    def __init__(self, name, breed):\n",
        "        self.name = name\n",
        "        self.breed = breed\n",
        "\n",
        "    def bark(self):\n",
        "        print(f\"{self.name} says Woof...!\")\n"
      ],
      "metadata": {
        "id": "H8qmDFE1UOi_"
      },
      "execution_count": 22,
      "outputs": []
    },
    {
      "cell_type": "markdown",
      "source": [
        "***11. Class Methods***"
      ],
      "metadata": {
        "id": "IwAT2r2-Uj5U"
      }
    },
    {
      "cell_type": "code",
      "source": [
        "class Book:\n",
        "    total_books = 0\n",
        "\n",
        "    def __init__(self, title):\n",
        "        self.title = title\n",
        "        Book.increment_book_count()\n",
        "\n",
        "    @classmethod\n",
        "    def increment_book_count(cls):\n",
        "        cls.total_books += 1\n",
        "\n",
        "    def display(self):\n",
        "        print(f\"Book Title: {self.title}\")\n",
        "\n",
        "book1 = Book(\"Aangan\")\n",
        "book2 = Book(\"Khuda Ki Basti\")\n",
        "book3 = Book(\"Peer-e-Kamil\")\n",
        "\n",
        "print(f\"Total books added: {Book.total_books}\")\n"
      ],
      "metadata": {
        "colab": {
          "base_uri": "https://localhost:8080/"
        },
        "id": "1WJ9lQLDUq7q",
        "outputId": "2349a3a8-4dde-4c22-987e-0c30b0d6522b"
      },
      "execution_count": 25,
      "outputs": [
        {
          "output_type": "stream",
          "name": "stdout",
          "text": [
            "Total books added: 3\n"
          ]
        }
      ]
    },
    {
      "cell_type": "markdown",
      "source": [
        "***12. Static Methods***"
      ],
      "metadata": {
        "id": "tIERk6u-V0LS"
      }
    },
    {
      "cell_type": "code",
      "source": [
        "class TemperatureConverter:\n",
        "    @staticmethod\n",
        "    def celsius_to_fahrenheit(c):\n",
        "        return (c * 9/5) + 32\n"
      ],
      "metadata": {
        "id": "Umy3uE3UV8eh"
      },
      "execution_count": 27,
      "outputs": []
    },
    {
      "cell_type": "markdown",
      "source": [
        "***13. Composition***"
      ],
      "metadata": {
        "id": "T0eGDwWeWS21"
      }
    },
    {
      "cell_type": "code",
      "source": [
        "class Engine:\n",
        "    def start(self):\n",
        "        return \"Engine started\"\n",
        "\n",
        "class Car:\n",
        "    def __init__(self, engine):\n",
        "        self.engine = engine\n",
        "\n",
        "    def start_car(self):\n",
        "        return self.engine.start()\n"
      ],
      "metadata": {
        "id": "h_e3vPDeWaKF"
      },
      "execution_count": 28,
      "outputs": []
    },
    {
      "cell_type": "markdown",
      "source": [
        "***14. Aggregation***"
      ],
      "metadata": {
        "id": "ZTxSrDaiXYwB"
      }
    },
    {
      "cell_type": "code",
      "source": [
        "class Employee:\n",
        "    def __init__(self, name):\n",
        "        self.name = name\n",
        "\n",
        "class Department:\n",
        "    def __init__(self, department_name, employee):\n",
        "        self.department_name = department_name\n",
        "        self.employee = employee\n",
        "\n",
        "    def get_info(self):\n",
        "        return f\"{self.employee.name} works in {self.department_name} department\"\n"
      ],
      "metadata": {
        "id": "F3BWJ0S8XbMs"
      },
      "execution_count": 29,
      "outputs": []
    },
    {
      "cell_type": "markdown",
      "source": [
        "***15. Method Resolution Order (MRO) and Diamond Inheritance***"
      ],
      "metadata": {
        "id": "ma_ix6mJXpKP"
      }
    },
    {
      "cell_type": "code",
      "source": [
        "class A:\n",
        "    def show(self):\n",
        "        return \"Show from A\"\n",
        "\n",
        "class B(A):\n",
        "    def show(self):\n",
        "        return \"Show from B\"\n",
        "\n",
        "class C(A):\n",
        "    def show(self):\n",
        "        return \"Show from C\"\n",
        "\n",
        "class D(B, C):\n",
        "    pass\n",
        "\n",
        "obj = D()\n",
        "print(obj.show())\n"
      ],
      "metadata": {
        "colab": {
          "base_uri": "https://localhost:8080/"
        },
        "id": "6aAhYjNXXs1U",
        "outputId": "2ab51622-7232-4cf1-ab8f-98a21a436192"
      },
      "execution_count": 30,
      "outputs": [
        {
          "output_type": "stream",
          "name": "stdout",
          "text": [
            "Show from B\n"
          ]
        }
      ]
    },
    {
      "cell_type": "markdown",
      "source": [
        "***16. Function Decorators***"
      ],
      "metadata": {
        "id": "KCXZlIBRX7fC"
      }
    },
    {
      "cell_type": "code",
      "source": [
        "def log_function_call(func):\n",
        "    def wrapper():\n",
        "        print(\"Function is being called\")\n",
        "        return func()\n",
        "    return wrapper\n",
        "\n",
        "@log_function_call\n",
        "def say_hello():\n",
        "    print(\"Hello\")\n",
        "\n",
        "say_hello()\n"
      ],
      "metadata": {
        "colab": {
          "base_uri": "https://localhost:8080/"
        },
        "id": "oDm65mscYEG-",
        "outputId": "93919a25-76e0-41fd-9416-a6d5ae3ebb65"
      },
      "execution_count": 35,
      "outputs": [
        {
          "output_type": "stream",
          "name": "stdout",
          "text": [
            "Function is being called\n",
            "Hello\n"
          ]
        }
      ]
    },
    {
      "cell_type": "markdown",
      "source": [
        "***17. Class Decorators***"
      ],
      "metadata": {
        "id": "ebsC5LWIYgUn"
      }
    },
    {
      "cell_type": "code",
      "source": [
        "def add_greeting(cls):\n",
        "    def greet(self):\n",
        "        return \"Hello from Decorator!\"\n",
        "    cls.greet = greet\n",
        "    return cls\n",
        "\n",
        "@add_greeting\n",
        "class Person:\n",
        "    def __init__(self, name):\n",
        "        self.name = name\n"
      ],
      "metadata": {
        "id": "ZNFysDFcYlfc"
      },
      "execution_count": 36,
      "outputs": []
    },
    {
      "cell_type": "markdown",
      "source": [
        "***18. Property Decorators: @property, @setter, and @deleter***"
      ],
      "metadata": {
        "id": "MwjmP6kiYw_u"
      }
    },
    {
      "cell_type": "code",
      "source": [
        "class Product:\n",
        "    def __init__(self, price):\n",
        "        self._price = price\n",
        "\n",
        "    @property\n",
        "    def price(self):\n",
        "        return self._price\n",
        "\n",
        "    @price.setter\n",
        "    def price(self, value):\n",
        "        self._price = value\n",
        "\n",
        "    @price.deleter\n",
        "    def price(self):\n",
        "        del self._price\n"
      ],
      "metadata": {
        "id": "dTIDuZ8nYztS"
      },
      "execution_count": 37,
      "outputs": []
    },
    {
      "cell_type": "markdown",
      "source": [
        "***19. callable() and __call__()***"
      ],
      "metadata": {
        "id": "lVZdLDmeaKwX"
      }
    },
    {
      "cell_type": "code",
      "source": [
        "class Multiplier:\n",
        "    def __init__(self, factor):\n",
        "        self.factor = factor\n",
        "\n",
        "    def __call__(self, value):\n",
        "        return value * self.factor\n",
        "m = Multiplier(5)\n",
        "\n",
        "print(callable(m))\n",
        "print(m(1))\n"
      ],
      "metadata": {
        "colab": {
          "base_uri": "https://localhost:8080/"
        },
        "id": "wstbi-9faOX4",
        "outputId": "4b4ea7a6-3332-4265-be76-3941ef35bb76"
      },
      "execution_count": 39,
      "outputs": [
        {
          "output_type": "stream",
          "name": "stdout",
          "text": [
            "True\n",
            "50\n"
          ]
        }
      ]
    },
    {
      "cell_type": "markdown",
      "source": [
        "***20. Creating a Custom Exception***"
      ],
      "metadata": {
        "id": "TNtcj73ubBh7"
      }
    },
    {
      "cell_type": "code",
      "source": [
        "class InvalidAgeError(Exception):\n",
        "    pass\n",
        "\n",
        "def check_age(age):\n",
        "    if age < 18:\n",
        "        raise InvalidAgeError(\"Age must be 18 or older.\")\n",
        "    else:\n",
        "        print(\"Age is valid.\")\n",
        "try:\n",
        "    check_age(16)\n",
        "except InvalidAgeError as e:\n",
        "    print(f\"InvalidAgeError caught: {e}\")\n"
      ],
      "metadata": {
        "colab": {
          "base_uri": "https://localhost:8080/"
        },
        "id": "AC7VC63mbHR8",
        "outputId": "e53531d5-1954-4fbe-e9f5-cb9c1917f8f9"
      },
      "execution_count": 40,
      "outputs": [
        {
          "output_type": "stream",
          "name": "stdout",
          "text": [
            "InvalidAgeError caught: Age must be 18 or older.\n"
          ]
        }
      ]
    },
    {
      "cell_type": "markdown",
      "source": [
        "***21. Make a Custom Class Iterable***"
      ],
      "metadata": {
        "id": "u1eWMGgAb5K_"
      }
    },
    {
      "cell_type": "code",
      "source": [
        "class Countdown:\n",
        "    def __init__(self, start):\n",
        "        self.current = start\n",
        "\n",
        "    def __iter__(self):\n",
        "        return self\n",
        "\n",
        "    def __next__(self):\n",
        "        if self.current < 0:\n",
        "            raise StopIteration\n",
        "        value = self.current\n",
        "        self.current -= 1\n",
        "        return value\n",
        "\n",
        "for number in Countdown(5):\n",
        "    print(number)"
      ],
      "metadata": {
        "colab": {
          "base_uri": "https://localhost:8080/"
        },
        "id": "t6uO2XYrb77a",
        "outputId": "8a425ae7-6876-426c-fd77-70c6dafacd9c"
      },
      "execution_count": 41,
      "outputs": [
        {
          "output_type": "stream",
          "name": "stdout",
          "text": [
            "5\n",
            "4\n",
            "3\n",
            "2\n",
            "1\n",
            "0\n"
          ]
        }
      ]
    }
  ]
}